{
 "cells": [
  {
   "cell_type": "markdown",
   "metadata": {
    "id": "7B_-CpRRW4Zd"
   },
   "source": [
    "# Lesson 3 - Intro to Functions: Conditionals\n",
    "\n",
    "\n",
    "\n",
    "**You can make your own copy of this notebook by downloadind zip in Main code branch.**"
   ]
  },
  {
   "cell_type": "markdown",
   "metadata": {
    "id": "NtTK_aaGwr5_"
   },
   "source": [
    "Author note: need to introduce a few built-in functions each lesson, simple i/o functions are a good choice. Print was already covered but should do input() in this lesson and another one or to in lesson 2."
   ]
  },
  {
   "cell_type": "markdown",
   "metadata": {
    "id": "KiBaxNk9bAVl"
   },
   "source": [
    "# Controlling Program Flow\n",
    "\n",
    "Trivia Question:\n",
    "Will the year 2100 be a leap year?\n",
    "\n",
    "* Up to now, we've looked at very simple programs, involving a sequence of statements (A, then B, then C…)\n",
    "* But real world algorithms are rarely so simple\n",
    "\n",
    "Example: If a year is divisible by 4, then it's a leap year, otherwise it's not a leap year.\n",
    "\n",
    "This is called conditional logic because the program’s logic or execution path is determined by the testing of a true or false condition.\n",
    "\n",
    "Everyday example:  if it's not raining then I'll ride my bike to work, otherwise I'll take public transit.\n"
   ]
  },
  {
   "cell_type": "markdown",
   "metadata": {
    "id": "Qoz-W_TIz3QS"
   },
   "source": [
    "# `if` Statements"
   ]
  },
  {
   "cell_type": "markdown",
   "metadata": {
    "id": "aTcPnZnF7S9-"
   },
   "source": [
    "* The `if` statement is how we express conditional logic in Python.\n",
    "* Virtually every programming language has this concept.\n",
    "* If statements define a condition and a sequence of statements to execute if the condition is `True`.\n",
    "\n",
    "Prototype...\n",
    "\n",
    "```\n",
    "if some_expression:    \n",
    "  do_this()\n",
    "  do_that()\n",
    "```\n",
    "\n",
    "If the condition is true, the indented statements are executed.\n",
    "Otherwise, the indented statements are skipped and program execution continues after the `if` statement.\n"
   ]
  },
  {
   "cell_type": "code",
   "execution_count": null,
   "metadata": {
    "colab": {
     "base_uri": "https://localhost:8080/"
    },
    "executionInfo": {
     "elapsed": 357,
     "status": "ok",
     "timestamp": 1649269769750,
     "user": {
      "displayName": "Marc Cohen",
      "userId": "07430968821203788943"
     },
     "user_tz": -60
    },
    "id": "NzctV1Z6C3lk",
    "outputId": "e0f256a7-f217-4c50-c54c-7c6c09b107bd"
   },
   "outputs": [
    {
     "name": "stdout",
     "output_type": "stream",
     "text": [
      "boo - back to school again!!!\n",
      "program done\n"
     ]
    }
   ],
   "source": [
    "month = \"jan\"\n",
    "summer_months = [\"jun\", \"july\", \"aug\", \"may\"]\n",
    "\n",
    "if month in summer_months:\n",
    "    print(\"yay - it's still summer!\")\n",
    "else:\n",
    "    print(\"boo - back to school again!!!\")\n",
    "print(\"program done\")"
   ]
  },
  {
   "cell_type": "markdown",
   "metadata": {
    "id": "s6BuZoxH7UcD"
   },
   "source": [
    "## Challenge\n",
    "\n",
    "In Python, we use indentation to associate a block of statements with a condition, for example...\n",
    "\n",
    "```\n",
    "print(\"1\")\n",
    "if some_condition:    \n",
    "  print(\"2\")    \n",
    "  print(\"3\")\n",
    "print(\"4\") # this line is NOT part of the if block\n",
    "```\n",
    "\n",
    "What does the output look like...\n",
    "* when the `some_condition` is True?\n",
    "* when the `some_condition` is False?"
   ]
  },
  {
   "cell_type": "markdown",
   "metadata": {
    "id": "iIM5dHM87YwW"
   },
   "source": [
    "Here’s a slightly different example...\n",
    "```\n",
    "print(\"1\")\n",
    "if some_condition:    \n",
    "  print(\"2\")    \n",
    "print(\"3\")  # this line is NOT part of if block\n",
    "print(\"4\")  # this line is NOT part of if block\n",
    "```\n",
    "What’s different?\n",
    "What does the output look like...\n",
    "* when the `some_condition` is True?\n",
    "* when the `some_condition` is False?\n"
   ]
  },
  {
   "cell_type": "markdown",
   "metadata": {
    "id": "BZrYYUiR8akX"
   },
   "source": [
    "## `if` Block Structure\n",
    "\n",
    "* In Python, `if` statements blocks are defined by indentation.\n",
    "* This idea of using indentation to delineate program structure is pervasive in Python and unique across programming languages.\n",
    "* For now, we're focusing on if statements but later we'll see how indentation is used to define other kinds of statement blocks."
   ]
  },
  {
   "cell_type": "markdown",
   "metadata": {
    "id": "EY_CXBBE8iL0"
   },
   "source": [
    "### Block Stucture in Other Languages\n",
    "\n",
    "In other languages, explicit delineators are used. For example, in Java, C and C++ we would write:\n",
    "\n",
    "```\n",
    "if ((cur_year % 4) == 0) {\n",
    "    leap_year = true;\n",
    "}\n",
    "```\n",
    "\n",
    "whereas, in Python we write:\n",
    "\n",
    "```\n",
    "if (cur_year % 4) == 0:\n",
    "    leap_year = True\n",
    "```\n",
    "Indentation in Java/C/C++ is a helpful practice for program readability but it does not affect program functionality.\n",
    "In Python, indentation is not just a good idea - it's affects program logic!\n"
   ]
  },
  {
   "cell_type": "markdown",
   "metadata": {
    "id": "QeVednm88pEn"
   },
   "source": [
    "## Python's use of whitespace\n",
    "\n",
    "* Many people have strong opinions about this aspect of Python.\n",
    "* Personally, I find that it leads to compact, readable code.\n",
    "* My advice: don’t get hung up on this feature. Try it and see what you think after you've written a few Python programs.\n",
    "* Pitfalls:\n",
    "  * watch out for mismatched indentation within a block\n",
    "  * avoid mixing tabs and spaces in your code\n",
    "  * I prefer spaces because it's more explicit.\n",
    "\n",
    "Marc's law of whitespace: **Pick tabs or spaces and be consistent.**"
   ]
  },
  {
   "cell_type": "markdown",
   "metadata": {
    "id": "zRsgasyw8s7O"
   },
   "source": [
    "## Encoding our leap year rule\n",
    "Remember our leap year rule?\n",
    "\n",
    "* if the current year is divisible by 4, we have a leap year\n",
    "\n",
    "To express that in Python, we could write:\n",
    "```\n",
    "leap_year = False  # initialization\n",
    "cur_year = input(\"Enter current year: \")\n",
    "cur_year = int(cur_year)\n",
    "if (cur_year % 4) == 0:\n",
    "    leap_year = True\n",
    "print(f\"leap year status: {str(leap_year)}\")\n",
    "````\n",
    "**Why is the first statement needed?**\n"
   ]
  },
  {
   "cell_type": "code",
   "execution_count": null,
   "metadata": {
    "colab": {
     "base_uri": "https://localhost:8080/"
    },
    "executionInfo": {
     "elapsed": 1833,
     "status": "ok",
     "timestamp": 1651396001890,
     "user": {
      "displayName": "Marc Cohen",
      "userId": "07430968821203788943"
     },
     "user_tz": -60
    },
    "id": "YxwIYO539pLb",
    "outputId": "352c779f-77d5-4990-f9bc-2278fcd60444"
   },
   "outputs": [
    {
     "name": "stdout",
     "output_type": "stream",
     "text": [
      "Enter current year: 1961\n",
      "leap year status: False\n"
     ]
    }
   ],
   "source": [
    "leap_year = False  # initialization\n",
    "cur_year = input(\"Enter current year: \")\n",
    "cur_year = int(cur_year)\n",
    "if (cur_year % 4) == 0:\n",
    "    leap_year = True\n",
    "print(f\"leap year status: {leap_year}\")"
   ]
  },
  {
   "cell_type": "markdown",
   "metadata": {
    "id": "nqHUiij_02RO"
   },
   "source": [
    "## `else` Statements"
   ]
  },
  {
   "cell_type": "markdown",
   "metadata": {
    "id": "zkMiG5338ypF"
   },
   "source": [
    "Sometimes we want to specify an alternative to the `if` condition, which we do with an `else` statement, for example...\n",
    "\n",
    "```\n",
    "if <condition>:\n",
    "    <block1>\n",
    "else:\n",
    "    <block2>\n",
    "```\n",
    "\n",
    "* If the condition is true, block1 is executed.\n",
    "* if the condition is false, block2 is executed.\n",
    "\n",
    "The else cause is Python's way of saying \"otherwise...\"\n",
    "\n"
   ]
  },
  {
   "cell_type": "markdown",
   "metadata": {
    "id": "kVG18CiQ838a"
   },
   "source": [
    "Just as `if` blocks are defined by indentation, `else` blocks are also defined by indentation.\n",
    "\n",
    "For example, this:\n",
    "\n",
    "```\n",
    "if <condition>:\n",
    "    <statement1>\n",
    "else:\n",
    "    <statement2>\n",
    "    <statement3>\n",
    "```\n",
    "is different from this:\n",
    "```\n",
    "if <condition>:\n",
    "    <statement1>\n",
    "else:\n",
    "    <statement2>\n",
    "<statement3>\n",
    "```\n"
   ]
  },
  {
   "cell_type": "markdown",
   "metadata": {
    "id": "zIAR_Ahg85Py"
   },
   "source": [
    "### Challenge\n",
    "\n",
    "Consider the following if/else statement...\n",
    "```\n",
    "print(\"1\")\n",
    "if some_condition:    \n",
    "  print(\"2\")\n",
    "else:    \n",
    "  print(\"3\")\n",
    "print(\"4\")\n",
    "```\n",
    "Question: what does the output look like…\n",
    "* when the `some_condition` is True?   \n",
    "* when the `some_condition` is False?  \n"
   ]
  },
  {
   "cell_type": "markdown",
   "metadata": {
    "id": "7eBjL9Ju9BG1"
   },
   "source": [
    "## Let's use `if` and `else` to express our leap year rule"
   ]
  },
  {
   "cell_type": "code",
   "execution_count": null,
   "metadata": {
    "colab": {
     "base_uri": "https://localhost:8080/"
    },
    "executionInfo": {
     "elapsed": 6009,
     "status": "ok",
     "timestamp": 1645291071662,
     "user": {
      "displayName": "Marc Cohen",
      "photoUrl": "https://lh3.googleusercontent.com/a-/AOh14GgMj8tKTmWGceVTa8610R8_N48Vsow5Pg_lPLBo7Ow=s64",
      "userId": "07430968821203788943"
     },
     "user_tz": 0
    },
    "id": "45rV7XpBUS0w",
    "outputId": "282b7fd9-9d1f-404e-ce12-bffb6882e6c0"
   },
   "outputs": [
    {
     "name": "stdout",
     "output_type": "stream",
     "text": [
      "Enter current year: 1961\n",
      "leap year status: False\n"
     ]
    }
   ],
   "source": [
    "cur_year = input(\"Enter current year: \")\n",
    "cur_year = int(cur_year)\n",
    "if (cur_year % 4) == 0:\n",
    "  leap_year = True\n",
    "else:\n",
    "  leap_year = False\n",
    "print(f\"leap year status: {leap_year}\")"
   ]
  },
  {
   "cell_type": "markdown",
   "metadata": {
    "id": "-uwGPHQt0vrJ"
   },
   "source": [
    "## `elif` Statements"
   ]
  },
  {
   "cell_type": "markdown",
   "metadata": {
    "id": "Shf50kOm9GRl"
   },
   "source": [
    "Sometimes we need one or more intermediate conditions between the if and else parts, for example...\n",
    "\n",
    "`if A then do X, else if B then do Y, otherwise do Z`\n",
    "\n",
    "We use the `elif` statement to express this in Python...\n",
    "```\n",
    "if condition1:\n",
    "    do_thing_1()\n",
    "elif condition2:\n",
    "    do_thing_2()\n",
    "else:\n",
    "    do_thing_3()\n",
    "```\n",
    "* If `condition1` is true, `do_thing_1()` is executed.\n",
    "* Otherwise, if `condition2` is true, `do_thing_2()` is executed.\n",
    "* Otherwise, `do_thing_3()` is executed.\n"
   ]
  },
  {
   "cell_type": "markdown",
   "metadata": {
    "id": "L9colMWL9HZw"
   },
   "source": [
    "* `elif` blocks are defined the same way as `if` and `else` blocks - using indentation.\n",
    "\n",
    "* It's good to have an if/elif for every condition of interest and not lump errors together with cases of interest.\n",
    "\n",
    "For example, if you care about values 1 and 2 and everything else is considered an error, this code:\n",
    "\n",
    "```\n",
    "if month == \"jan\":      # deal with 1 here\n",
    "  apply_jan_discount()\n",
    "elif month == \"feb\":    # deal with 2 here\n",
    "  apply_feb_discount()\n",
    "else:           # deal with errors here\n",
    "  apply_no_discount()\n",
    "```\n",
    "is better than this:\n",
    "```\n",
    "if month == \"jan\":\n",
    "  apply_jan_discount()\n",
    "else:    # x must be 2 then, right? not necessarily!\n",
    "  apply_feb_discount()\n",
    "```\n",
    "The latter code hides errors by combining a valid case with error cases.\n"
   ]
  },
  {
   "cell_type": "markdown",
   "metadata": {
    "id": "L_7esHuA9LKs"
   },
   "source": [
    "### Challenge\n",
    "\n",
    "Consider the following if/elif/else statement...\n",
    "```\n",
    "print(\"1\")\n",
    "if condition1:    \n",
    "  print(\"2\")\n",
    "elif condition2:    \n",
    "  print(\"3\")\n",
    "else:    \n",
    "  print(\"4\")\n",
    "print(\"5\")\n",
    "```\n",
    "\n",
    "What does the output look like...\n",
    "* when both conditions are False?  \n",
    "* when both conditions are True?   \n",
    "* when `condition1` is `True` and `condition2` is `False`?   \n",
    "* when `condition1` is `False` and `condition2` is `True`?  "
   ]
  },
  {
   "cell_type": "code",
   "execution_count": null,
   "metadata": {
    "colab": {
     "base_uri": "https://localhost:8080/"
    },
    "executionInfo": {
     "elapsed": 217,
     "status": "ok",
     "timestamp": 1651396296526,
     "user": {
      "displayName": "Marc Cohen",
      "userId": "07430968821203788943"
     },
     "user_tz": -60
    },
    "id": "-qg7QFtz4uIU",
    "outputId": "48afcad1-656b-47bf-845c-a58a1c9d28a7"
   },
   "outputs": [
    {
     "name": "stdout",
     "output_type": "stream",
     "text": [
      "1\n",
      "3\n",
      "5\n"
     ]
    }
   ],
   "source": [
    "print(\"1\")\n",
    "if False:\n",
    "  print(\"2\")\n",
    "elif True:\n",
    "  print(\"3\")\n",
    "else:\n",
    "  print(\"4\")\n",
    "print(\"5\")"
   ]
  },
  {
   "cell_type": "markdown",
   "metadata": {
    "id": "D79nPzXo9zZM"
   },
   "source": [
    "## Nested `if` Statements\n",
    "\n",
    "* Sometimes we need to embed one if statement inside another.\n",
    "* We call these nested if statements.\n",
    "* We can embed if statements inside any part of an `if` statement, i.e. in the `if` block or the `elif` block or the `else` block.\n",
    "* We can embed `if` statements arbitrarily deeply, i.e. we\n",
    "can have\n",
    "```\n",
    "  if condition1:\n",
    "    if condition2:\n",
    "      if condition3:\n",
    "        ...\n",
    "```\n"
   ]
  },
  {
   "cell_type": "markdown",
   "metadata": {
    "id": "FdtLybaN97zL"
   },
   "source": [
    "### Challenge\n",
    "\n",
    "```\n",
    "print(\"1\")\n",
    "if condition1:    \n",
    "  print(\"2\")    \n",
    "  if condition2:        \n",
    "    print(\"3\")    \n",
    "  else:        \n",
    "    print(\"4\")\n",
    "else:    \n",
    "  print(\"5\")\n",
    "print(\"6\")\n",
    "```\n",
    "What does the output look like...\n",
    "* when both conditions are False?  \n",
    "* when both conditions are True?   \n",
    "* when `condition1` is `True` and `condition2` is `False`?   \n",
    "* when `condition1` is `False` and `condition2` is `True`?  "
   ]
  },
  {
   "cell_type": "code",
   "execution_count": null,
   "metadata": {
    "colab": {
     "base_uri": "https://localhost:8080/"
    },
    "executionInfo": {
     "elapsed": 214,
     "status": "ok",
     "timestamp": 1651396494680,
     "user": {
      "displayName": "Marc Cohen",
      "userId": "07430968821203788943"
     },
     "user_tz": -60
    },
    "id": "MIXbX99c5DpC",
    "outputId": "7199471e-6833-4470-9752-8a2c17e4f580"
   },
   "outputs": [
    {
     "name": "stdout",
     "output_type": "stream",
     "text": [
      "1\n",
      "5\n",
      "6\n"
     ]
    }
   ],
   "source": [
    "print(\"1\")\n",
    "if False:\n",
    "  print(\"2\")\n",
    "  if True:\n",
    "    print(\"3\")\n",
    "  else:\n",
    "    print(\"4\")\n",
    "else:\n",
    "  print(\"5\")\n",
    "print(\"6\")"
   ]
  },
  {
   "cell_type": "markdown",
   "metadata": {
    "id": "uWrJ5KjU-Edv"
   },
   "source": [
    "## Improving Our Rule\n",
    "\n",
    "A more accurate rule for determining leap years:\n",
    "\n",
    "If the current year is divisible by 4 but not divisible by 100 then we have a leap year."
   ]
  },
  {
   "cell_type": "code",
   "execution_count": null,
   "metadata": {
    "colab": {
     "base_uri": "https://localhost:8080/"
    },
    "executionInfo": {
     "elapsed": 29230,
     "status": "ok",
     "timestamp": 1651396987054,
     "user": {
      "displayName": "Marc Cohen",
      "userId": "07430968821203788943"
     },
     "user_tz": -60
    },
    "id": "YOF4hlnTXsXU",
    "outputId": "b9e6c5dc-ee68-4c8d-e9a0-b0245ffded84"
   },
   "outputs": [
    {
     "name": "stdout",
     "output_type": "stream",
     "text": [
      "Enter current year: 2000\n",
      "leap year status: False\n"
     ]
    }
   ],
   "source": [
    "leap_year = False\n",
    "cur_year = input(\"Enter current year: \")\n",
    "cur_year = int(cur_year)\n",
    "if (cur_year % 4) == 0:\n",
    "  if (cur_year % 100) != 0:\n",
    "    leap_year = True\n",
    "print(f\"leap year status: {leap_year}\")"
   ]
  },
  {
   "cell_type": "markdown",
   "metadata": {
    "id": "d5nFcLIa-I6O"
   },
   "source": [
    "### Variation - using boolean logic instead of nested `if`\n",
    "\n",
    "This example could also be coded using boolean logic in place of the nested if statement."
   ]
  },
  {
   "cell_type": "code",
   "execution_count": null,
   "metadata": {
    "colab": {
     "base_uri": "https://localhost:8080/"
    },
    "executionInfo": {
     "elapsed": 2970,
     "status": "ok",
     "timestamp": 1651397117144,
     "user": {
      "displayName": "Marc Cohen",
      "userId": "07430968821203788943"
     },
     "user_tz": -60
    },
    "id": "zuThxO12XdqH",
    "outputId": "a780db75-b344-4346-9b77-5ea019d4962e"
   },
   "outputs": [
    {
     "name": "stdout",
     "output_type": "stream",
     "text": [
      "Enter current year: 2000\n",
      "leap year status: False\n"
     ]
    }
   ],
   "source": [
    "leap_year = False\n",
    "cur_year = input(\"Enter current year: \")\n",
    "cur_year = int(cur_year)\n",
    "if (cur_year % 4) == 0 and (cur_year % 100) != 0:\n",
    "    leap_year = True\n",
    "print(f\"leap year status: {leap_year}\")\n",
    "\n",
    "\n"
   ]
  },
  {
   "cell_type": "markdown",
   "metadata": {
    "id": "Jewjo6ZZX87O"
   },
   "source": [
    "What does the above code print for the year...\n",
    "* 2020?\n",
    "* 2100?\n",
    "* 2000?  -- surprise, that one's wrong!"
   ]
  },
  {
   "cell_type": "markdown",
   "metadata": {
    "id": "xm2YA7qo-Op1"
   },
   "source": [
    "## The Whole Story About Leap Years\n",
    "\n",
    "A year is a leap year if its divisible by 4,\n",
    "but it can't be divisible by 100,\n",
    "unless it's also divisible by 400.\n",
    "\n",
    "So...  \n",
    "* 2008 was a leap year because it's divisible by 4 and not divisible by 100.\n",
    "* 2100 will NOT be a leap year because although it's divisible by 4, it is also divisible by 100.\n",
    "* 2000 was a leap year because although it's divisible by 4 and 100, it's also divisible by 400!\n"
   ]
  },
  {
   "cell_type": "markdown",
   "metadata": {
    "id": "jJzPtT8z1Z6f"
   },
   "source": [
    "# Importing Modules"
   ]
  },
  {
   "cell_type": "markdown",
   "metadata": {
    "id": "f-U1JoLp1gcI"
   },
   "source": [
    "`import` is how you use someone else's code.\n",
    "\n",
    "Let's say we want to generate a random number between 1 and 100. We use the Python `random` module, like this..."
   ]
  },
  {
   "cell_type": "code",
   "execution_count": null,
   "metadata": {
    "colab": {
     "base_uri": "https://localhost:8080/"
    },
    "executionInfo": {
     "elapsed": 10,
     "status": "ok",
     "timestamp": 1651397266195,
     "user": {
      "displayName": "Marc Cohen",
      "userId": "07430968821203788943"
     },
     "user_tz": -60
    },
    "id": "I-UIGmb5cIM6",
    "outputId": "5350acdf-b226-4c29-9846-db1265e9d0b1"
   },
   "outputs": [
    {
     "name": "stdout",
     "output_type": "stream",
     "text": [
      "['Maple', 'Benji', 'Kirby']\n",
      "['Benji', 'Maple', 'Kirby']\n",
      "['Maple', 'Benji', 'Kirby']\n"
     ]
    }
   ],
   "source": [
    "import random\n",
    "\n",
    "good_dogs = [\"Benji\", \"Maple\", \"Kirby\"]\n",
    "\n",
    "for i in range(3):\n",
    "  random.shuffle(good_dogs)\n",
    "  print(good_dogs)\n",
    "a = \"\"\"\n",
    "count = 1000000\n",
    "sum = 0\n",
    "for i in range(count):\n",
    "  number = random.randint(1, 10)\n",
    "  #print(\"num:\", number)\n",
    "  sum += number\n",
    "  #print(\"sum:\", sum)\n",
    "\n",
    "print(sum/count)\n",
    "\"\"\""
   ]
  },
  {
   "cell_type": "markdown",
   "metadata": {
    "id": "jBs305Ht_KLo"
   },
   "source": [
    "# Homework"
   ]
  },
  {
   "cell_type": "markdown",
   "metadata": {
    "id": "Dd1FNOpnK0-D"
   },
   "source": [
    "## Question 1\n",
    "\n",
    "Write a program that prompts the user for their birth year and prints their age in years, days, hours, minutes, and seconds. Don’t worry about the user’s birthday (just subtract the birth year from the current year to get the approximate current age in years) and you can ignore leap years. Here's a sample run:\n",
    "```\n",
    "    Enter your birth year:  1970\n",
    "    You are...\n",
    "        50 years old\n",
    "        18250 days old\n",
    "        438000 hours old\n",
    "        26280000 minutes old\n",
    "        1576800000 seconds old\n",
    "```\n",
    "Extra challenge:  write the program so that it works any year it is run, not just 2020 (hint: google the Python `datetime` module)."
   ]
  },
  {
   "cell_type": "code",
   "execution_count": null,
   "metadata": {
    "id": "orMwPRauWCOU"
   },
   "outputs": [],
   "source": [
    "# Add your code here"
   ]
  },
  {
   "cell_type": "markdown",
   "metadata": {
    "id": "So9vQ1trLJLX"
   },
   "source": [
    "## Question 2\n",
    "\n",
    "* A person is eligible to be a Panama Legislator  if they are at least 25 years old and have been a panamanian citizen for at least 10 years.\n",
    "\n",
    "* A person is eligible to be a Panama Representative if they are at least 21 years old and have been a panamanian citizen for at least 6 years.\n",
    "\n",
    "Write a program to obtain age and length of citizenship from the user and print out one of the following three statements:\n",
    "\n",
    "* You are eligible to run for both the Legislature and Community representative.\n",
    "* You eligible only to run for the Legislature.\n",
    "* You are ineligible for Community representative."
   ]
  },
  {
   "cell_type": "code",
   "execution_count": null,
   "metadata": {
    "id": "-8rQKJmiLSsa"
   },
   "outputs": [],
   "source": [
    "# Add your code here"
   ]
  },
  {
   "cell_type": "markdown",
   "metadata": {
    "id": "1jH-_bNlLcHc"
   },
   "source": [
    "## Question 3\n",
    "\n",
    "Write a program that generates two random 1 digit integers and prompts the user to provide the product of those two digits (basically, this is an interactive multiplication tester). Check the user's answer and print a response indicating whether it is correct or not. Here are two sample runs:\n",
    "```\n",
    "Welcome to the multiplication tester!\n",
    "What is 3 * 9? 25\n",
    "Sorry, that is incorrect, 3 * 9 = 27.\n",
    "\n",
    "Welcome to the multiplication tester!\n",
    "What is 4 * 7? 28\n",
    "Correct!\n",
    "```\n",
    "\n",
    "Extra challenge: After reading in chapter 2 about while loops, which we'll cover in class next week, put the code from this program inside a while loop, so that you keep quizzing the user until he or she enters a `q` (for 'quit') in response to one of the questions.\n"
   ]
  },
  {
   "cell_type": "code",
   "execution_count": null,
   "metadata": {
    "id": "rXOX2g4-Ll-9"
   },
   "outputs": [],
   "source": [
    "# Add your code here"
   ]
  },
  {
   "cell_type": "markdown",
   "metadata": {
    "id": "9LYTJHnh0mPe"
   },
   "source": [
    "## Question 4\n",
    "\n",
    "Write a program that prompts the user for a year and, using the complete set of rules described in class, tells the user whether the provided year is a leap year or not."
   ]
  },
  {
   "cell_type": "code",
   "execution_count": null,
   "metadata": {
    "id": "p4ETVG0e02DZ"
   },
   "outputs": [],
   "source": [
    "# Add your code here"
   ]
  },
  {
   "cell_type": "markdown",
   "metadata": {
    "id": "Eis2S--iPOXM"
   },
   "source": [
    "[Previous Lesson](https://github.com/isaachsgel/CursoPython/blob/main/Curso_modulo_1_y_2/Modulo-02-variables.ipynb)\n",
    "&nbsp;&nbsp;&nbsp;&nbsp;&nbsp;&nbsp;&nbsp;&nbsp;&nbsp;&nbsp;\n",
    "[Next Lesson]()"
   ]
  }
 ],
 "metadata": {
  "colab": {
   "collapsed_sections": [
    "KiBaxNk9bAVl",
    "EY_CXBBE8iL0",
    "QeVednm88pEn",
    "zIAR_Ahg85Py",
    "L_7esHuA9LKs",
    "xm2YA7qo-Op1",
    "Dd1FNOpnK0-D",
    "So9vQ1trLJLX",
    "1jH-_bNlLcHc"
   ],
   "provenance": [
    {
     "file_id": "1tkYKM4qkcEPHtlcKRwm6SnoxAiCcfcxm",
     "timestamp": 1707166868726
    },
    {
     "file_id": "1DMXmSha0eOHZ-s-7lbz9PC31_7wg98uW",
     "timestamp": 1644394220711
    },
    {
     "file_id": "1qJNpvYrZhi8mGj1-OX8Ub1kPXNDeRoHz",
     "timestamp": 1597312881230
    },
    {
     "file_id": "1BSRUDgOOsqBlAz5hKQ0loS4WpYiPTDRC",
     "timestamp": 1596831172138
    }
   ]
  },
  "kernelspec": {
   "display_name": "Python 3 (ipykernel)",
   "language": "python",
   "name": "python3"
  },
  "language_info": {
   "codemirror_mode": {
    "name": "ipython",
    "version": 3
   },
   "file_extension": ".py",
   "mimetype": "text/x-python",
   "name": "python",
   "nbconvert_exporter": "python",
   "pygments_lexer": "ipython3",
   "version": "3.11.4"
  }
 },
 "nbformat": 4,
 "nbformat_minor": 1
}
