{
 "cells": [
  {
   "cell_type": "markdown",
   "metadata": {
    "id": "pB15rzv-5A-i"
   },
   "source": [
    "# Lección - Variables y tipos\n",
    "\n",
    "Link a la libreta: https://github.com/isaachsgel/CursoPython/blob/main/Curso_modulo_1_y_2/Modulo-02-variables.ipynb\n",
    "\n",
    "**Debes hacer tu propia copia de este cuaderno seleccionando main->download zip en la barra de menú de arriba.**\n",
    "\n",
    "\n",
    "Aprenderás:\n",
    "- Tipos básicos de datos en Python\n",
    "- Crear y asignar valores a variables en Python\n",
    "- Llamar una función"
   ]
  },
  {
   "cell_type": "markdown",
   "metadata": {
    "id": "bJVtPIkr5KDA"
   },
   "source": [
    "## Variables\n",
    "\n",
    "Cualquier intérprete de python se puede usar como calculadora:\n"
   ]
  },
  {
   "cell_type": "code",
   "execution_count": 1,
   "metadata": {
    "id": "O5D5Pvgu5MrL"
   },
   "outputs": [
    {
     "name": "stdout",
     "output_type": "stream",
     "text": [
      "23\n"
     ]
    }
   ],
   "source": [
    "print(3 + 5 * 4)"
   ]
  },
  {
   "cell_type": "markdown",
   "metadata": {
    "id": "zi5ctjIY5j5n"
   },
   "source": [
    "Esto es bueno pero no muy interesante.\n",
    "Buscar más potencial, debe asignarse valores a una _variable_.\n",
    "En Python, la forma es sencilla; simplemente `=`.\n",
    "\n",
    "Cuando no existe variable guardando una valor, queda predefinida. Si ya existe un valor y se lo asignas nuevamente, se sobreescribe y lo reemplaza.\n",
    "\n",
    "Ejemplos\n",
    "\n",
    "    instructor = \"Isaach\"       # string \n",
    "    instructor = \"Isaach malvado\" # string \n",
    "    instructor = 23             # integer (entero)\n",
    "    temp_amb_afuera_hoy = 37.3     # float \n",
    "\n",
    "Podemos seguir el recorrido de una mascota al hacer ejercicio en un parque asignado  el valor `4` a una variable `recorrido_km`:"
   ]
  },
  {
   "cell_type": "code",
   "execution_count": 2,
   "metadata": {
    "id": "epIQ2nJs5pdy"
   },
   "outputs": [
    {
     "name": "stdout",
     "output_type": "stream",
     "text": [
      "4\n"
     ]
    }
   ],
   "source": [
    "recorrido_km = 4\n",
    "print(recorrido_km)"
   ]
  },
  {
   "cell_type": "markdown",
   "metadata": {
    "id": "ei_aBfYIYmdI"
   },
   "source": [
    "Desde ahora, cuando se use`recorrido_km`, Python sustituirá el valor que se le ponga. Es decir, **una variable es una referencia a un valor*.\n",
    "\n",
    "En Python, los nombres de variables incluyen:\n",
    "\n",
    " - letrass, dígitos, y guión bajo \n",
    " - no pueden empezar en dígito\n",
    "\n",
    "Esto significa:\n",
    " - `recorrido0` es un nombre válido, `0recorrido` no\n",
    " - `recorrido` y `Recorrido` son variables distintas"
   ]
  },
  {
   "cell_type": "markdown",
   "metadata": {
    "id": "AQsH4eIdsUY_"
   },
   "source": [
    "### Palabras especiales\n",
    "\n",
    "Las siguientes palabras tienen un significado especial en Python. Las llamamos palabras clave o palabras reservadas y no puede utilizar estos nombres para las variables de su programa.\n",
    "\n",
    "> ```and, as, assert, break, class, continue, def, del, elif, else, except, False, finally, for, from, global, if, import, in, is, lambda, nonlocal, None, not, or, pass, raise, return, True, try, while, with, yield```"
   ]
  },
  {
   "cell_type": "markdown",
   "metadata": {
    "id": "2vVrIzu76Mka"
   },
   "source": [
    "## Datos más utilizados\n",
    "Python y sus tres datos más comunes son:\n",
    "\n",
    "* integer \n",
    "* float\n",
    "* string\n",
    "\n",
    "En el ejemplo anterior, la variable `recorrido_km` se le asigno un valor entero de `4`. Si queremos realizar un seguimiento más preciso de nuestra mascota,\n",
    "podemos usar un valor de punto flotante(floating point value) ejecutando:"
   ]
  },
  {
   "cell_type": "code",
   "execution_count": 3,
   "metadata": {
    "id": "Q-cUtwa26PKT"
   },
   "outputs": [
    {
     "name": "stdout",
     "output_type": "stream",
     "text": [
      "4.0\n"
     ]
    }
   ],
   "source": [
    "recorrido_km = 4.0\n",
    "print(recorrido_km)"
   ]
  },
  {
   "cell_type": "markdown",
   "metadata": {
    "id": "hRyCToPF6Uk7"
   },
   "source": [
    "Para crear un string, se agregan comillas o doble comillas al texto.\n",
    "Para identificar y seguir a una mascota o de repente a varias,\n",
    "se crea un identificador a cada una como string:"
   ]
  },
  {
   "cell_type": "code",
   "execution_count": 10,
   "metadata": {
    "id": "2g7XZo0m6X7Q"
   },
   "outputs": [
    {
     "name": "stdout",
     "output_type": "stream",
     "text": [
      "001\n"
     ]
    }
   ],
   "source": [
    "Collie_id = \"001\"\n",
    "print(Collie_id)"
   ]
  },
  {
   "cell_type": "markdown",
   "metadata": {
    "id": "3IVQV7ajrzvM"
   },
   "source": [
    "## Datos numéricos\n",
    "\n",
    "Python trabaja con los dos más importantes\n",
    "* int, enteros arbitrarios de tamaño tangible, como estos:\n",
    "  * `2024`\n",
    "  * `-999999999999`\n",
    "* float, números precisos con decimales, como estos:\n",
    "  * `3.14159`\n",
    "  * `6.02 * 10**23`\n",
    "\n",
    "En la mayoría de los casos, no tienes que preocuparte por qué tipo de número utilizar - Python se encargará de eso por ti. El punto decimal le dice a Python cuál usar.\n",
    "\n",
    "Mezclar enteros(int) y decimales(float) resulta en decimal, ejemplo, `2024 * 3.14` resulta en decimal.\n",
    "\n",
    "Haga los siguientes ejercicios:\n",
    "\n",
    "```\n",
    "print(5 - 6)  \n",
    "print(8 * 9)\n",
    "print(6 / 2)\n",
    "print(5.0 / 2)\n",
    "print(5 % 2)  \n",
    "print(2 * 10 + 3)  \n",
    "print(2 * (10 + 3))  \n",
    "print(2 ** 4)\n",
    "```\n",
    "¿Cuál resultado no esperaba?"
   ]
  },
  {
   "cell_type": "code",
   "execution_count": null,
   "metadata": {
    "colab": {
     "base_uri": "https://localhost:8080/"
    },
    "executionInfo": {
     "elapsed": 6,
     "status": "ok",
     "timestamp": 1667761381738,
     "user": {
      "displayName": "Marc Cohen",
      "userId": "07430968821203788943"
     },
     "user_tz": 0
    },
    "id": "GxdsLvbqr2Bd",
    "outputId": "7f71c405-669c-4c75-b512-cdea89fc3076"
   },
   "outputs": [
    {
     "name": "stdout",
     "output_type": "stream",
     "text": [
      "-1\n",
      "72\n",
      "3.0\n",
      "2.5\n",
      "1\n",
      "23\n",
      "26\n",
      "16\n",
      "2\n"
     ]
    }
   ],
   "source": [
    "print(5 - 6)\n",
    "print(8 * 9)\n",
    "print(6 / 2)\n",
    "print(5.0 / 2)\n",
    "print(5 % 2)\n",
    "print(2 * 10 + 3)\n",
    "print(2 * (10 + 3))\n",
    "print(2 ** 4)\n",
    "print(8 % 3)"
   ]
  },
  {
   "cell_type": "markdown",
   "metadata": {
    "id": "S-j9OuQ96ofq"
   },
   "source": [
    "## Usando variables\n",
    "\n",
    "Una vez que tenemos datos almacenados con nombres de variables, podemos hacer uso de esas variables en nuestros cálculos. A estas combinaciones de variables y valores las llamamos **expresiones**. Al evaluar una expresión, Python reemplaza internamente los nombres de las variables por los valores a los que se refieren.\n",
    "\n"
   ]
  },
  {
   "cell_type": "code",
   "execution_count": 7,
   "metadata": {
    "id": "gWSAZq0D6xpf"
   },
   "outputs": [
    {
     "name": "stdout",
     "output_type": "stream",
     "text": [
      "2.4\n"
     ]
    }
   ],
   "source": [
    "recorrido_mi = 0.6 * recorrido_km\n",
    "print(recorrido_mi)"
   ]
  },
  {
   "cell_type": "markdown",
   "metadata": {
    "id": "hCZN9s236ucL"
   },
   "source": [
    "También podríamos decidir añadir un prefijo a nuestro identificador de mascota:"
   ]
  },
  {
   "cell_type": "code",
   "execution_count": 11,
   "metadata": {
    "id": "gLIq7Z1u63VJ"
   },
   "outputs": [
    {
     "name": "stdout",
     "output_type": "stream",
     "text": [
      "Samantha_001\n"
     ]
    }
   ],
   "source": [
    "Collie_id = \"Samantha_\" + Collie_id\n",
    "print(Collie_id)"
   ]
  },
  {
   "cell_type": "markdown",
   "metadata": {
    "id": "8BnjHISr6-hN"
   },
   "source": [
    "## Funciones predefinidas\n",
    "\n",
    "Para realizar tareas comunes con datos y variables en Python,\n",
    "el lenguaje nos proporciona varias funciones incorporadas.\n",
    "Para mostrar información en la pantalla, utilizamos la función `print`:"
   ]
  },
  {
   "cell_type": "code",
   "execution_count": 12,
   "metadata": {
    "id": "Igqiw5fJ7FLn"
   },
   "outputs": [
    {
     "name": "stdout",
     "output_type": "stream",
     "text": [
      "2.4\n",
      "Samantha_001\n"
     ]
    }
   ],
   "source": [
    "print(recorrido_mi)\n",
    "print(Collie_id)"
   ]
  },
  {
   "cell_type": "markdown",
   "metadata": {
    "id": "amsnF9L47gWd"
   },
   "source": [
    "Cuando queremos hacer uso de una función, lo que se denomina **llamar a la función**, acompañamos su nombre de paréntesis. Los paréntesis son importantes: si los omites, la función no se ejecuta.\n",
    "\n",
    "A veces incluirás valores o variables dentro de los paréntesis para que la función los utilice. En el caso de `print`,\n",
    "usamos los paréntesis para decirle a la función qué valor queremos mostrar. Aprenderemos más sobre cómo funcionan las funciones y cómo crear las nuestras en lecciones posteriores.\n"
   ]
  },
  {
   "cell_type": "code",
   "execution_count": 14,
   "metadata": {
    "id": "oQpyFVpi7ivD"
   },
   "outputs": [
    {
     "name": "stdout",
     "output_type": "stream",
     "text": [
      "Samantha_001 recorrido en km: 4.0\n"
     ]
    }
   ],
   "source": [
    "print(Collie_id, \"recorrido en km:\", recorrido_km)"
   ]
  },
  {
   "cell_type": "markdown",
   "metadata": {
    "id": "WsHwduqt7vjX"
   },
   "source": [
    "También podemos llamar a una función dentro de otra. Por ejemplo, Python tiene una función integrada llamada `type` que te dice el tipo de datos de un valor:"
   ]
  },
  {
   "cell_type": "code",
   "execution_count": 15,
   "metadata": {
    "id": "6ZCBafYK7yQk"
   },
   "outputs": [
    {
     "name": "stdout",
     "output_type": "stream",
     "text": [
      "<class 'float'>\n",
      "<class 'str'>\n"
     ]
    }
   ],
   "source": [
    "print(type(111.1))\n",
    "print(type(Collie_id))"
   ]
  },
  {
   "cell_type": "markdown",
   "metadata": {
    "id": "OvDZ69F373aO"
   },
   "source": [
    "También podemos hacer operaciones aritméticas con variables dentro de la función `print`:"
   ]
  },
  {
   "cell_type": "code",
   "execution_count": 16,
   "metadata": {
    "id": "oMNmpxlC75fA"
   },
   "outputs": [
    {
     "name": "stdout",
     "output_type": "stream",
     "text": [
      "recorrido en millas : 2.4\n"
     ]
    }
   ],
   "source": [
    "print(\"recorrido en millas :\", 0.6 * recorrido_km)"
   ]
  },
  {
   "cell_type": "markdown",
   "metadata": {
    "id": "BxsTLSDG8GbK"
   },
   "source": [
    "Note que llamar a la función no cambia `recorrido_km`:"
   ]
  },
  {
   "cell_type": "code",
   "execution_count": 17,
   "metadata": {
    "id": "aK3sN7nO8DWx"
   },
   "outputs": [
    {
     "name": "stdout",
     "output_type": "stream",
     "text": [
      "4.0\n"
     ]
    }
   ],
   "source": [
    "print(recorrido_km)"
   ]
  },
  {
   "cell_type": "markdown",
   "metadata": {
    "id": "3UrH-otn8OJL"
   },
   "source": [
    "Para cambiar `recorrido_km` , debe\n",
    "**asignar** un nuevo valor a `recorrido_km` usando `=` :"
   ]
  },
  {
   "cell_type": "code",
   "execution_count": 18,
   "metadata": {
    "id": "b3Stj4VQ8Qhn"
   },
   "outputs": [
    {
     "name": "stdout",
     "output_type": "stream",
     "text": [
      "recorrido en km es ahora: 6.0\n"
     ]
    }
   ],
   "source": [
    "recorrido_km = 6.0\n",
    "print(\"recorrido en km es ahora:\", recorrido_km)"
   ]
  },
  {
   "cell_type": "markdown",
   "metadata": {
    "id": "VulGkaqP9jMp"
   },
   "source": [
    "## Práctica\n",
    "\n",
    "Adivina antes d ejecutar.."
   ]
  },
  {
   "cell_type": "code",
   "execution_count": 23,
   "metadata": {
    "id": "ppi8ti6d9rd8"
   },
   "outputs": [
    {
     "name": "stdout",
     "output_type": "stream",
     "text": [
      "la masa es 48.5\n"
     ]
    },
    {
     "ename": "NameError",
     "evalue": "name 'edad' is not defined",
     "output_type": "error",
     "traceback": [
      "\u001b[1;31m---------------------------------------------------------------------------\u001b[0m",
      "\u001b[1;31mNameError\u001b[0m                                 Traceback (most recent call last)",
      "Cell \u001b[1;32mIn[23], line 3\u001b[0m\n\u001b[0;32m      1\u001b[0m masa \u001b[38;5;241m=\u001b[39m \u001b[38;5;241m48.5\u001b[39m\n\u001b[0;32m      2\u001b[0m \u001b[38;5;28mprint\u001b[39m(\u001b[38;5;124m\"\u001b[39m\u001b[38;5;124mla masa es\u001b[39m\u001b[38;5;124m\"\u001b[39m, masa)\n\u001b[1;32m----> 3\u001b[0m \u001b[38;5;28mprint\u001b[39m(\u001b[38;5;124m\"\u001b[39m\u001b[38;5;124medad es\u001b[39m\u001b[38;5;124m\"\u001b[39m, edad)\n",
      "\u001b[1;31mNameError\u001b[0m: name 'edad' is not defined"
     ]
    }
   ],
   "source": [
    "masa = 48.5\n",
    "print(\"la masa es\", masa)\n",
    "print(\"edad es\", edad)"
   ]
  },
  {
   "cell_type": "code",
   "execution_count": 25,
   "metadata": {
    "id": "OrBQpVQXa2uS"
   },
   "outputs": [
    {
     "name": "stdout",
     "output_type": "stream",
     "text": [
      "la masa es 48.5\n",
      "edad es 91\n"
     ]
    }
   ],
   "source": [
    "edad = 91\n",
    "print(\"la masa es\", masa)\n",
    "print(\"edad es\", edad)"
   ]
  },
  {
   "cell_type": "code",
   "execution_count": 26,
   "metadata": {
    "id": "0PEer3Jaa5gr"
   },
   "outputs": [
    {
     "name": "stdout",
     "output_type": "stream",
     "text": [
      "la masa es 97.0\n",
      "edad es 91\n"
     ]
    }
   ],
   "source": [
    "masa = masa * 2.0\n",
    "print(\"la masa es\", masa)\n",
    "print(\"edad es\", edad)"
   ]
  },
  {
   "cell_type": "code",
   "execution_count": 28,
   "metadata": {
    "id": "YqBUCO2Ua7Vk"
   },
   "outputs": [
    {
     "name": "stdout",
     "output_type": "stream",
     "text": [
      "la masa es 97.0\n",
      "edad es 71\n"
     ]
    }
   ],
   "source": [
    "edad = edad - 20\n",
    "print(\"la masa es\", masa)\n",
    "print(\"edad es\", edad)"
   ]
  },
  {
   "cell_type": "markdown",
   "metadata": {
    "id": "EdWoZVG2-PKk"
   },
   "source": [
    "## Referencias\n",
    "Python permite asignar varios valores a varias variables en una línea separando las variables y los valores con comas. ¿Qué imprime el siguiente programa?"
   ]
  },
  {
   "cell_type": "code",
   "execution_count": 29,
   "metadata": {
    "id": "IAAYWlIQs3nq"
   },
   "outputs": [
    {
     "name": "stdout",
     "output_type": "stream",
     "text": [
      "Benji Piper\n"
     ]
    }
   ],
   "source": [
    "a, b = \"Benji\", \"Piper\"\n",
    "print(a, b)"
   ]
  },
  {
   "cell_type": "code",
   "execution_count": 30,
   "metadata": {
    "id": "VkwNf2OT-UX9"
   },
   "outputs": [
    {
     "name": "stdout",
     "output_type": "stream",
     "text": [
      "Bayo Firulin\n"
     ]
    }
   ],
   "source": [
    "primerpuesto, segundopuesto = \"Firulin\", \"Bayo\"\n",
    "tercerpuesto, cuartopuesto = segundopuesto, primerpuesto\n",
    "print(tercerpuesto, cuartopuesto)"
   ]
  },
  {
   "cell_type": "markdown",
   "metadata": {
    "id": "x4zDBM9f-uLp"
   },
   "source": [
    "## Ver  los tipos de data\n",
    "\n",
    "¿Cuáles son los tipos de datos de las siguientes variables? Intenta adivinarlo antes de ejecutar la celda."
   ]
  },
  {
   "cell_type": "code",
   "execution_count": 31,
   "metadata": {
    "id": "qyyiKScY-oHZ"
   },
   "outputs": [
    {
     "name": "stdout",
     "output_type": "stream",
     "text": [
      "<class 'str'>\n",
      "<class 'int'>\n",
      "<class 'float'>\n"
     ]
    }
   ],
   "source": [
    "planeta = \"Tierra\"\n",
    "naranjas = 5\n",
    "distancia = 10.5\n",
    "print(type(planeta))\n",
    "print(type(naranjas))\n",
    "print(type(distancia))"
   ]
  },
  {
   "cell_type": "markdown",
   "metadata": {
    "id": "kwFCzCqXIGqs"
   },
   "source": [
    "## Puntos destacados\n",
    "- Tipos básicos incluye integers, strings, y float.\n",
    "- Usa `variable = value` para asignar valores yq que queden en la memoria.\n",
    "- Variables se crean en demanda de lo que se busca estimar o retornar del intérprete.\n",
    "- Usa `print(algo)` para presentar en pantalla el valor de `algo`.\n",
    "- Las funciones predefinidas siempre están disponibles."
   ]
  },
  {
   "cell_type": "markdown",
   "metadata": {
    "id": "XJ8BP2vbb2F0"
   },
   "source": [
    "# Tarea"
   ]
  },
  {
   "cell_type": "markdown",
   "metadata": {
    "id": "J72xu17T1E3F"
   },
   "source": [
    "¿Cuáles son nombres de variables permitidos en python?\n",
    "```\n",
    "diploma = 1\n",
    "Máx = 1\n",
    "BadBunny = 1  \n",
    "_To_ki_sha = 1\n",
    "BoteMovilInvisible = 1    \n",
    "3_tristes_tigres = 1  \n",
    "dos_tigres_1 = 1  \n",
    "aprobados = 1  \n",
    "mi-gato-es-ninja = 1\n",
    "mi_gato_habla_gatino = 1  \n",
    "```"
   ]
  },
  {
   "cell_type": "code",
   "execution_count": null,
   "metadata": {
    "id": "jVRpXn1Y1H2Q"
   },
   "outputs": [],
   "source": []
  },
  {
   "cell_type": "markdown",
   "metadata": {
    "id": "HeLdyFLbb7P0"
   },
   "source": [
    "En una línea, calcula las horas semanales que holgazaneas si a diario procrastinas 3 horas(es un escenario totalmente hipotético).\n",
    "\n"
   ]
  },
  {
   "cell_type": "code",
   "execution_count": null,
   "metadata": {
    "id": "-TmtupM-b6UN"
   },
   "outputs": [],
   "source": []
  },
  {
   "cell_type": "markdown",
   "metadata": {
    "id": "5Q2cc0sBcJBM"
   },
   "source": [
    "Almacena tu déficit productivo en una variable."
   ]
  },
  {
   "cell_type": "code",
   "execution_count": null,
   "metadata": {
    "id": "xmDX9SqScEj0"
   },
   "outputs": [],
   "source": []
  },
  {
   "cell_type": "markdown",
   "metadata": {
    "id": "8h4t_xV3cW09"
   },
   "source": [
    "Usa la variable para estimar el tiempo mensual y compáralo con tus horas de sueño, aproximadamente 6 horas por día."
   ]
  },
  {
   "cell_type": "code",
   "execution_count": null,
   "metadata": {
    "id": "OBip189vcaji"
   },
   "outputs": [],
   "source": []
  },
  {
   "cell_type": "markdown",
   "metadata": {
    "id": "u8qUUJCWcbBo"
   },
   "source": [
    "Felicidades - tienes el potencial de aumentar tus días de descanso mensual en 15 adicionales, vacaciones oficiales. Ahora asigna un nuevo valor al déficit"
   ]
  },
  {
   "cell_type": "code",
   "execution_count": null,
   "metadata": {
    "id": "VHUIaTuCcxpa"
   },
   "outputs": [],
   "source": []
  },
  {
   "cell_type": "markdown",
   "metadata": {
    "id": "DrJeGgybcy31"
   },
   "source": [
    "Recalcula el tiempo mensual."
   ]
  },
  {
   "cell_type": "code",
   "execution_count": null,
   "metadata": {
    "id": "1o4--aFsc4ml"
   },
   "outputs": [],
   "source": []
  },
  {
   "cell_type": "markdown",
   "metadata": {
    "id": "qi66Z8TOdPuw"
   },
   "source": [
    "Calcula e imprime para una semana y anualmente asumiendo 30 días para los meses y 365 días al año."
   ]
  },
  {
   "cell_type": "code",
   "execution_count": null,
   "metadata": {
    "id": "TGi5ARZpdnt6"
   },
   "outputs": [],
   "source": []
  },
  {
   "cell_type": "markdown",
   "metadata": {
    "id": "Dtag2RwKdpEx"
   },
   "source": [
    "Imprime tu nombre, segundo nombre y apellido en una línea\n",
    "\n"
   ]
  },
  {
   "cell_type": "code",
   "execution_count": null,
   "metadata": {
    "id": "NKZymN6Idwe-"
   },
   "outputs": [],
   "source": []
  },
  {
   "cell_type": "markdown",
   "metadata": {
    "id": "stkouGzNdxFE"
   },
   "source": [
    "Introducción a dataset"
   ]
  },
  {
   "cell_type": "code",
   "execution_count": 50,
   "metadata": {},
   "outputs": [],
   "source": [
    "from datetime import datetime\n",
    "import numpy as np\n",
    "import pandas as pd\n",
    "import matplotlib.pyplot as plt\n",
    "%matplotlib inline"
   ]
  },
  {
   "cell_type": "markdown",
   "metadata": {},
   "source": [
    "Ahora busque un dataset y llamelo a python"
   ]
  },
  {
   "cell_type": "code",
   "execution_count": 51,
   "metadata": {},
   "outputs": [],
   "source": [
    "player = 'Roger Federer'\n",
    "df = pd.read_csv('https://github.com/ipython-books/'\n",
    "                 'cookbook-2nd-data/blob/master/'\n",
    "                 'federer.csv?raw=true',\n",
    "                 parse_dates=['start date'],\n",
    "                 dayfirst=True)"
   ]
  },
  {
   "cell_type": "markdown",
   "metadata": {},
   "source": [
    "Veamos"
   ]
  },
  {
   "cell_type": "code",
   "execution_count": 52,
   "metadata": {},
   "outputs": [
    {
     "data": {
      "text/html": [
       "<div>\n",
       "<style scoped>\n",
       "    .dataframe tbody tr th:only-of-type {\n",
       "        vertical-align: middle;\n",
       "    }\n",
       "\n",
       "    .dataframe tbody tr th {\n",
       "        vertical-align: top;\n",
       "    }\n",
       "\n",
       "    .dataframe thead th {\n",
       "        text-align: right;\n",
       "    }\n",
       "</style>\n",
       "<table border=\"1\" class=\"dataframe\">\n",
       "  <thead>\n",
       "    <tr style=\"text-align: right;\">\n",
       "      <th></th>\n",
       "      <th>year</th>\n",
       "      <th>tournament</th>\n",
       "      <th>start date</th>\n",
       "      <th>type</th>\n",
       "      <th>surface</th>\n",
       "      <th>draw</th>\n",
       "      <th>atp points</th>\n",
       "      <th>atp ranking</th>\n",
       "      <th>tournament prize money</th>\n",
       "      <th>round</th>\n",
       "      <th>...</th>\n",
       "      <th>player2 2nd serve return points total</th>\n",
       "      <th>player2 break points converted won</th>\n",
       "      <th>player2 break points converted total</th>\n",
       "      <th>player2 return games played</th>\n",
       "      <th>player2 total service points won</th>\n",
       "      <th>player2 total service points total</th>\n",
       "      <th>player2 total return points won</th>\n",
       "      <th>player2 total return points total</th>\n",
       "      <th>player2 total points won</th>\n",
       "      <th>player2 total points total</th>\n",
       "    </tr>\n",
       "  </thead>\n",
       "  <tbody>\n",
       "    <tr>\n",
       "      <th>0</th>\n",
       "      <td>1998</td>\n",
       "      <td>Basel, Switzerland</td>\n",
       "      <td>1998-10-05</td>\n",
       "      <td>WS</td>\n",
       "      <td>Indoor: Hard</td>\n",
       "      <td>Draw: 32</td>\n",
       "      <td>1</td>\n",
       "      <td>396.0</td>\n",
       "      <td>$9,800</td>\n",
       "      <td>R32</td>\n",
       "      <td>...</td>\n",
       "      <td>22.0</td>\n",
       "      <td>4.0</td>\n",
       "      <td>8.0</td>\n",
       "      <td>8.0</td>\n",
       "      <td>36.0</td>\n",
       "      <td>50.0</td>\n",
       "      <td>26.0</td>\n",
       "      <td>53.0</td>\n",
       "      <td>62.0</td>\n",
       "      <td>103.0</td>\n",
       "    </tr>\n",
       "    <tr>\n",
       "      <th>1</th>\n",
       "      <td>1998</td>\n",
       "      <td>Toulouse, France</td>\n",
       "      <td>1998-09-28</td>\n",
       "      <td>WS</td>\n",
       "      <td>Indoor: Hard</td>\n",
       "      <td>Draw: 32</td>\n",
       "      <td>59</td>\n",
       "      <td>878.0</td>\n",
       "      <td>$10,800</td>\n",
       "      <td>R32</td>\n",
       "      <td>...</td>\n",
       "      <td>19.0</td>\n",
       "      <td>0.0</td>\n",
       "      <td>1.0</td>\n",
       "      <td>8.0</td>\n",
       "      <td>33.0</td>\n",
       "      <td>65.0</td>\n",
       "      <td>8.0</td>\n",
       "      <td>41.0</td>\n",
       "      <td>41.0</td>\n",
       "      <td>106.0</td>\n",
       "    </tr>\n",
       "    <tr>\n",
       "      <th>2</th>\n",
       "      <td>1998</td>\n",
       "      <td>Toulouse, France</td>\n",
       "      <td>1998-09-28</td>\n",
       "      <td>WS</td>\n",
       "      <td>Indoor: Hard</td>\n",
       "      <td>Draw: 32</td>\n",
       "      <td>59</td>\n",
       "      <td>878.0</td>\n",
       "      <td>$10,800</td>\n",
       "      <td>R16</td>\n",
       "      <td>...</td>\n",
       "      <td>30.0</td>\n",
       "      <td>0.0</td>\n",
       "      <td>4.0</td>\n",
       "      <td>10.0</td>\n",
       "      <td>46.0</td>\n",
       "      <td>75.0</td>\n",
       "      <td>23.0</td>\n",
       "      <td>73.0</td>\n",
       "      <td>69.0</td>\n",
       "      <td>148.0</td>\n",
       "    </tr>\n",
       "  </tbody>\n",
       "</table>\n",
       "<p>3 rows × 70 columns</p>\n",
       "</div>"
      ],
      "text/plain": [
       "   year          tournament start date type       surface      draw  \\\n",
       "0  1998  Basel, Switzerland 1998-10-05   WS  Indoor: Hard  Draw: 32   \n",
       "1  1998    Toulouse, France 1998-09-28   WS  Indoor: Hard  Draw: 32   \n",
       "2  1998    Toulouse, France 1998-09-28   WS  Indoor: Hard  Draw: 32   \n",
       "\n",
       "  atp points  atp ranking tournament prize money round  ...  \\\n",
       "0          1        396.0                 $9,800   R32  ...   \n",
       "1         59        878.0                $10,800   R32  ...   \n",
       "2         59        878.0                $10,800   R16  ...   \n",
       "\n",
       "  player2 2nd serve return points total player2 break points converted won  \\\n",
       "0                                  22.0                                4.0   \n",
       "1                                  19.0                                0.0   \n",
       "2                                  30.0                                0.0   \n",
       "\n",
       "  player2 break points converted total player2 return games played  \\\n",
       "0                                  8.0                         8.0   \n",
       "1                                  1.0                         8.0   \n",
       "2                                  4.0                        10.0   \n",
       "\n",
       "  player2 total service points won player2 total service points total  \\\n",
       "0                             36.0                               50.0   \n",
       "1                             33.0                               65.0   \n",
       "2                             46.0                               75.0   \n",
       "\n",
       "   player2 total return points won player2 total return points total  \\\n",
       "0                             26.0                              53.0   \n",
       "1                              8.0                              41.0   \n",
       "2                             23.0                              73.0   \n",
       "\n",
       "  player2 total points won player2 total points total  \n",
       "0                     62.0                      103.0  \n",
       "1                     41.0                      106.0  \n",
       "2                     69.0                      148.0  \n",
       "\n",
       "[3 rows x 70 columns]"
      ]
     },
     "execution_count": 52,
     "metadata": {},
     "output_type": "execute_result"
    }
   ],
   "source": [
    "df.head(3)"
   ]
  },
  {
   "cell_type": "markdown",
   "metadata": {},
   "source": [
    "Agrega booleanos"
   ]
  },
  {
   "cell_type": "code",
   "execution_count": 53,
   "metadata": {},
   "outputs": [
    {
     "data": {
      "text/plain": [
       "1174    False\n",
       "1175     True\n",
       "1176     True\n",
       "1177     True\n",
       "1178    False\n",
       "Name: win, dtype: bool"
      ]
     },
     "execution_count": 53,
     "metadata": {},
     "output_type": "execute_result"
    }
   ],
   "source": [
    "df['win'] = df['winner'] == player\n",
    "df['win'].tail()\n"
   ]
  },
  {
   "cell_type": "markdown",
   "metadata": {},
   "source": [
    "Para los datos en series como los dataset, es posible aplicar directamente estadistica descriptiva"
   ]
  },
  {
   "cell_type": "code",
   "execution_count": 54,
   "metadata": {},
   "outputs": [
    {
     "name": "stdout",
     "output_type": "stream",
     "text": [
      "Roger Federer has won 82% of his matches.\n"
     ]
    }
   ],
   "source": [
    "won = 100 * df['win'].mean()\n",
    "print(f\"{player} has won {won:.0f}% of his matches.\")"
   ]
  },
  {
   "cell_type": "markdown",
   "metadata": {},
   "source": [
    "Fechas importantes"
   ]
  },
  {
   "cell_type": "code",
   "execution_count": 55,
   "metadata": {},
   "outputs": [],
   "source": [
    "date = df['start date']"
   ]
  },
  {
   "cell_type": "markdown",
   "metadata": {},
   "source": [
    "Permitiendo estimar indicadores cualitativos (en este caso faltas cometidos en un periodo para saber estado anímico y emocional de un jugador)"
   ]
  },
  {
   "cell_type": "code",
   "execution_count": 56,
   "metadata": {},
   "outputs": [],
   "source": [
    "df['dblfaults'] = (df['player1 double faults'] /\n",
    "                   df['player1 total points total'])"
   ]
  },
  {
   "cell_type": "markdown",
   "metadata": {},
   "source": [
    "Observe"
   ]
  },
  {
   "cell_type": "code",
   "execution_count": 57,
   "metadata": {},
   "outputs": [
    {
     "data": {
      "text/plain": [
       "1174    0.018116\n",
       "1175    0.000000\n",
       "1176    0.000000\n",
       "1177    0.011561\n",
       "1178         NaN\n",
       "Name: dblfaults, dtype: float64"
      ]
     },
     "execution_count": 57,
     "metadata": {},
     "output_type": "execute_result"
    }
   ],
   "source": [
    "df['dblfaults'].tail()"
   ]
  },
  {
   "cell_type": "markdown",
   "metadata": {},
   "source": [
    "Observe"
   ]
  },
  {
   "cell_type": "code",
   "execution_count": 58,
   "metadata": {},
   "outputs": [
    {
     "data": {
      "text/plain": [
       "count    1027.000000\n",
       "mean        0.012129\n",
       "std         0.010797\n",
       "min         0.000000\n",
       "25%         0.004444\n",
       "50%         0.010000\n",
       "75%         0.018108\n",
       "max         0.060606\n",
       "Name: dblfaults, dtype: float64"
      ]
     },
     "execution_count": 58,
     "metadata": {},
     "output_type": "execute_result"
    }
   ],
   "source": [
    "df['dblfaults'].describe()"
   ]
  },
  {
   "cell_type": "markdown",
   "metadata": {},
   "source": [
    " Funciones predefinidas como `groupby()` permiten agrupar filas con el mismo valor en una columna."
   ]
  },
  {
   "cell_type": "code",
   "execution_count": 59,
   "metadata": {},
   "outputs": [
    {
     "data": {
      "text/plain": [
       "surface\n",
       "Indoor: Carpet    0.736842\n",
       "Indoor: Clay      0.833333\n",
       "Indoor: Hard      0.836283\n",
       "Outdoor: Clay     0.779116\n",
       "Outdoor: Grass    0.871429\n",
       "Outdoor: Hard     0.842324\n",
       "Name: win, dtype: float64"
      ]
     },
     "execution_count": 59,
     "metadata": {},
     "output_type": "execute_result"
    }
   ],
   "source": [
    "df.groupby('surface')['win'].mean()"
   ]
  },
  {
   "cell_type": "markdown",
   "metadata": {
    "id": "2gpMPXdRf9GE"
   },
   "source": [
    "¡Felicidades por llegar has aquí! Toma un tour por youtube y mira tutoriales de python que te llamen la atención"
   ]
  },
  {
   "cell_type": "markdown",
   "metadata": {
    "id": "VbfEFfZvq55E"
   },
   "source": [
    "**Es una buena idea guardar tu trabajo después de una sesión de bloc de notas.** Puedes utilizar la paleta de comandos para hacerlo, como acabas de hacer en la celda anterior, pero como se trata de una función común, verás una forma más fácil de guardar tu bloc de notas a través de la opción de menú Archivo->Guardar.\n"
   ]
  },
  {
   "cell_type": "markdown",
   "metadata": {
    "id": "SR3FUvVKkFQP"
   },
   "source": [
    "\n",
    "&nbsp;&nbsp;&nbsp;&nbsp;&nbsp;&nbsp;&nbsp;&nbsp;&nbsp;&nbsp;\n",
    "[Próxima Lección]()"
   ]
  }
 ],
 "metadata": {
  "colab": {
   "provenance": [
    {
     "file_id": "15KAyGvriQwRoXQa3t70jmi3XumKBxDRi",
     "timestamp": 1707166775380
    }
   ]
  },
  "kernelspec": {
   "display_name": "Python 3 (ipykernel)",
   "language": "python",
   "name": "python3"
  },
  "language_info": {
   "codemirror_mode": {
    "name": "ipython",
    "version": 3
   },
   "file_extension": ".py",
   "mimetype": "text/x-python",
   "name": "python",
   "nbconvert_exporter": "python",
   "pygments_lexer": "ipython3",
   "version": "3.11.4"
  }
 },
 "nbformat": 4,
 "nbformat_minor": 1
}
